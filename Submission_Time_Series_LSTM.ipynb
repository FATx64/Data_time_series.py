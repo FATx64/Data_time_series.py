{
  "nbformat": 4,
  "nbformat_minor": 0,
  "metadata": {
    "colab": {
      "name": "Submission_Time_Series_LSTM.ipynb",
      "provenance": [],
      "collapsed_sections": []
    },
    "kernelspec": {
      "name": "python3",
      "display_name": "Python 3"
    },
    "language_info": {
      "name": "python"
    }
  },
  "cells": [
    {
      "cell_type": "code",
      "metadata": {
        "id": "zGP0YKXIFeda"
      },
      "source": [
        "import numpy as np\n",
        "import pandas as pd\n",
        "from keras.layers import Dense, LSTM\n",
        "import matplotlib.pyplot as plt\n",
        "import tensorflow as tf"
      ],
      "execution_count": 71,
      "outputs": []
    },
    {
      "cell_type": "code",
      "metadata": {
        "colab": {
          "base_uri": "https://localhost:8080/",
          "height": 204
        },
        "id": "kLYuvmlJFqNt",
        "outputId": "5a399f64-1dbf-40e3-e5e1-7d4663c37fa3"
      },
      "source": [
        "data_train = pd.read_csv('ForecastWeather.csv')\n",
        "data_train.head()"
      ],
      "execution_count": 72,
      "outputs": [
        {
          "output_type": "execute_result",
          "data": {
            "text/html": [
              "<div>\n",
              "<style scoped>\n",
              "    .dataframe tbody tr th:only-of-type {\n",
              "        vertical-align: middle;\n",
              "    }\n",
              "\n",
              "    .dataframe tbody tr th {\n",
              "        vertical-align: top;\n",
              "    }\n",
              "\n",
              "    .dataframe thead th {\n",
              "        text-align: right;\n",
              "    }\n",
              "</style>\n",
              "<table border=\"1\" class=\"dataframe\">\n",
              "  <thead>\n",
              "    <tr style=\"text-align: right;\">\n",
              "      <th></th>\n",
              "      <th>date</th>\n",
              "      <th>meantemp</th>\n",
              "      <th>humidity</th>\n",
              "      <th>wind_speed</th>\n",
              "      <th>meanpressure</th>\n",
              "    </tr>\n",
              "  </thead>\n",
              "  <tbody>\n",
              "    <tr>\n",
              "      <th>0</th>\n",
              "      <td>2013-01-01</td>\n",
              "      <td>10.000000</td>\n",
              "      <td>84.500000</td>\n",
              "      <td>0.000000</td>\n",
              "      <td>1015.666667</td>\n",
              "    </tr>\n",
              "    <tr>\n",
              "      <th>1</th>\n",
              "      <td>2013-01-02</td>\n",
              "      <td>7.400000</td>\n",
              "      <td>92.000000</td>\n",
              "      <td>2.980000</td>\n",
              "      <td>1017.800000</td>\n",
              "    </tr>\n",
              "    <tr>\n",
              "      <th>2</th>\n",
              "      <td>2013-01-03</td>\n",
              "      <td>7.166667</td>\n",
              "      <td>87.000000</td>\n",
              "      <td>4.633333</td>\n",
              "      <td>1018.666667</td>\n",
              "    </tr>\n",
              "    <tr>\n",
              "      <th>3</th>\n",
              "      <td>2013-01-04</td>\n",
              "      <td>8.666667</td>\n",
              "      <td>71.333333</td>\n",
              "      <td>1.233333</td>\n",
              "      <td>1017.166667</td>\n",
              "    </tr>\n",
              "    <tr>\n",
              "      <th>4</th>\n",
              "      <td>2013-01-05</td>\n",
              "      <td>6.000000</td>\n",
              "      <td>86.833333</td>\n",
              "      <td>3.700000</td>\n",
              "      <td>1016.500000</td>\n",
              "    </tr>\n",
              "  </tbody>\n",
              "</table>\n",
              "</div>"
            ],
            "text/plain": [
              "         date   meantemp   humidity  wind_speed  meanpressure\n",
              "0  2013-01-01  10.000000  84.500000    0.000000   1015.666667\n",
              "1  2013-01-02   7.400000  92.000000    2.980000   1017.800000\n",
              "2  2013-01-03   7.166667  87.000000    4.633333   1018.666667\n",
              "3  2013-01-04   8.666667  71.333333    1.233333   1017.166667\n",
              "4  2013-01-05   6.000000  86.833333    3.700000   1016.500000"
            ]
          },
          "metadata": {
            "tags": []
          },
          "execution_count": 72
        }
      ]
    },
    {
      "cell_type": "code",
      "metadata": {
        "colab": {
          "base_uri": "https://localhost:8080/",
          "height": 204
        },
        "id": "CgkojiyMF36s",
        "outputId": "c05fcb8f-80b6-4d96-ce02-b8f5ec980e7b"
      },
      "source": [
        "data_train.tail()"
      ],
      "execution_count": 73,
      "outputs": [
        {
          "output_type": "execute_result",
          "data": {
            "text/html": [
              "<div>\n",
              "<style scoped>\n",
              "    .dataframe tbody tr th:only-of-type {\n",
              "        vertical-align: middle;\n",
              "    }\n",
              "\n",
              "    .dataframe tbody tr th {\n",
              "        vertical-align: top;\n",
              "    }\n",
              "\n",
              "    .dataframe thead th {\n",
              "        text-align: right;\n",
              "    }\n",
              "</style>\n",
              "<table border=\"1\" class=\"dataframe\">\n",
              "  <thead>\n",
              "    <tr style=\"text-align: right;\">\n",
              "      <th></th>\n",
              "      <th>date</th>\n",
              "      <th>meantemp</th>\n",
              "      <th>humidity</th>\n",
              "      <th>wind_speed</th>\n",
              "      <th>meanpressure</th>\n",
              "    </tr>\n",
              "  </thead>\n",
              "  <tbody>\n",
              "    <tr>\n",
              "      <th>1457</th>\n",
              "      <td>2016-12-28</td>\n",
              "      <td>17.217391</td>\n",
              "      <td>68.043478</td>\n",
              "      <td>3.547826</td>\n",
              "      <td>1015.565217</td>\n",
              "    </tr>\n",
              "    <tr>\n",
              "      <th>1458</th>\n",
              "      <td>2016-12-29</td>\n",
              "      <td>15.238095</td>\n",
              "      <td>87.857143</td>\n",
              "      <td>6.000000</td>\n",
              "      <td>1016.904762</td>\n",
              "    </tr>\n",
              "    <tr>\n",
              "      <th>1459</th>\n",
              "      <td>2016-12-30</td>\n",
              "      <td>14.095238</td>\n",
              "      <td>89.666667</td>\n",
              "      <td>6.266667</td>\n",
              "      <td>1017.904762</td>\n",
              "    </tr>\n",
              "    <tr>\n",
              "      <th>1460</th>\n",
              "      <td>2016-12-31</td>\n",
              "      <td>15.052632</td>\n",
              "      <td>87.000000</td>\n",
              "      <td>7.325000</td>\n",
              "      <td>1016.100000</td>\n",
              "    </tr>\n",
              "    <tr>\n",
              "      <th>1461</th>\n",
              "      <td>2017-01-01</td>\n",
              "      <td>10.000000</td>\n",
              "      <td>100.000000</td>\n",
              "      <td>0.000000</td>\n",
              "      <td>1016.000000</td>\n",
              "    </tr>\n",
              "  </tbody>\n",
              "</table>\n",
              "</div>"
            ],
            "text/plain": [
              "            date   meantemp    humidity  wind_speed  meanpressure\n",
              "1457  2016-12-28  17.217391   68.043478    3.547826   1015.565217\n",
              "1458  2016-12-29  15.238095   87.857143    6.000000   1016.904762\n",
              "1459  2016-12-30  14.095238   89.666667    6.266667   1017.904762\n",
              "1460  2016-12-31  15.052632   87.000000    7.325000   1016.100000\n",
              "1461  2017-01-01  10.000000  100.000000    0.000000   1016.000000"
            ]
          },
          "metadata": {
            "tags": []
          },
          "execution_count": 73
        }
      ]
    },
    {
      "cell_type": "code",
      "metadata": {
        "colab": {
          "base_uri": "https://localhost:8080/"
        },
        "id": "nyGkEU7bMQXh",
        "outputId": "6c1d8e2a-05cc-4f85-c6ff-82539c47b519"
      },
      "source": [
        "data_train.info()"
      ],
      "execution_count": 74,
      "outputs": [
        {
          "output_type": "stream",
          "text": [
            "<class 'pandas.core.frame.DataFrame'>\n",
            "RangeIndex: 1462 entries, 0 to 1461\n",
            "Data columns (total 5 columns):\n",
            " #   Column        Non-Null Count  Dtype  \n",
            "---  ------        --------------  -----  \n",
            " 0   date          1462 non-null   object \n",
            " 1   meantemp      1462 non-null   float64\n",
            " 2   humidity      1462 non-null   float64\n",
            " 3   wind_speed    1462 non-null   float64\n",
            " 4   meanpressure  1462 non-null   float64\n",
            "dtypes: float64(4), object(1)\n",
            "memory usage: 57.2+ KB\n"
          ],
          "name": "stdout"
        }
      ]
    },
    {
      "cell_type": "code",
      "metadata": {
        "colab": {
          "base_uri": "https://localhost:8080/"
        },
        "id": "2_TTgnsLF860",
        "outputId": "3e340890-522c-42bc-d1b1-d82faceaf4f3"
      },
      "source": [
        "#cek apakah ada nilai yang hilang dari dataset menggunakan fungsi isnull().\n",
        "data_train.isnull().sum()"
      ],
      "execution_count": 75,
      "outputs": [
        {
          "output_type": "execute_result",
          "data": {
            "text/plain": [
              "date            0\n",
              "meantemp        0\n",
              "humidity        0\n",
              "wind_speed      0\n",
              "meanpressure    0\n",
              "dtype: int64"
            ]
          },
          "metadata": {
            "tags": []
          },
          "execution_count": 75
        }
      ]
    },
    {
      "cell_type": "code",
      "metadata": {
        "colab": {
          "base_uri": "https://localhost:8080/",
          "height": 358
        },
        "id": "-uELUQItMaI4",
        "outputId": "244a60f4-d69b-4836-d59d-9ab17adcdbdd"
      },
      "source": [
        "dates = data_train['date'].values\n",
        "volume = data_train['meantemp'].values\n",
        "\n",
        "plt.figure(figsize=(15,5))\n",
        "plt.plot(dates, volume)\n",
        "plt.title('meantemp',\n",
        "          fontsize=20)"
      ],
      "execution_count": 77,
      "outputs": [
        {
          "output_type": "execute_result",
          "data": {
            "text/plain": [
              "Text(0.5, 1.0, 'meantemp')"
            ]
          },
          "metadata": {
            "tags": []
          },
          "execution_count": 77
        },
        {
          "output_type": "display_data",
          "data": {
            "image/png": "[encoded data removed]",
            "text/plain": [
              "<Figure size 1080x360 with 1 Axes>"
            ]
          },
          "metadata": {
            "tags": [],
            "needs_background": "light"
          }
        }
      ]
    },
    {
      "cell_type": "code",
      "metadata": {
        "id": "eHWXH1hXNTco"
      },
      "source": [
        "import tensorflow as tf\n",
        "\n",
        "def windowed_dataset(series, window_size, batch_size, shuffle_buffer):\n",
        "    series = tf.expand_dims(series, axis=-1)\n",
        "    ds = tf.data.Dataset.from_tensor_slices(series)\n",
        "    ds = ds.window(window_size + 1, shift=1, drop_remainder=True)\n",
        "    ds = ds.flat_map(lambda w: w.batch(window_size + 1))\n",
        "    ds = ds.shuffle(shuffle_buffer)\n",
        "    ds = ds.map(lambda w: (w[:-1], w[-1:]))\n",
        "    return ds.batch(batch_size).prefetch(1)"
      ],
      "execution_count": 78,
      "outputs": []
    },
    {
      "cell_type": "code",
      "metadata": {
        "colab": {
          "base_uri": "https://localhost:8080/"
        },
        "id": "Xz3re4cjNjp4",
        "outputId": "66bdca7c-335f-4592-bc92-958654240bf1"
      },
      "source": [
        "from sklearn.model_selection import train_test_split\n",
        "\n",
        "x_train, x_test, y_train, y_test = train_test_split(volume, dates, test_size = 0.2, random_state = 0 , shuffle=False)\n",
        "print(len(x_train), len(x_test))"
      ],
      "execution_count": 79,
      "outputs": [
        {
          "output_type": "stream",
          "text": [
            "1169 293\n"
          ],
          "name": "stdout"
        }
      ]
    },
    {
      "cell_type": "code",
      "metadata": {
        "id": "9ejpzdN6Nxs7"
      },
      "source": [
        "from keras.layers import Dense, LSTM\n",
        "\n",
        "data_x_train = windowed_dataset(x_train, window_size=60, batch_size=100, shuffle_buffer=5000)\n",
        "data_x_test = windowed_dataset(x_test, window_size=60, batch_size=100, shuffle_buffer=5000)\n",
        "\n",
        "model = tf.keras.models.Sequential([\n",
        "  tf.keras.layers.Conv1D(filters=32, kernel_size=5,\n",
        "                      strides=1, padding=\"causal\",\n",
        "                      activation=\"relu\",\n",
        "                      input_shape=[None, 1]),\n",
        "  tf.keras.layers.LSTM(64, return_sequences=True),\n",
        "  tf.keras.layers.LSTM(64, return_sequences=True),\n",
        "  tf.keras.layers.Dense(30, activation=\"relu\"),\n",
        "  tf.keras.layers.Dense(10, activation=\"relu\"),\n",
        "  tf.keras.layers.Dense(1),\n",
        "  tf.keras.layers.Lambda(lambda x: x * 400)\n",
        "])"
      ],
      "execution_count": 80,
      "outputs": []
    },
    {
      "cell_type": "code",
      "metadata": {
        "colab": {
          "base_uri": "https://localhost:8080/"
        },
        "id": "-vqtN9aFNzpN",
        "outputId": "40690fe0-7572-4c94-db64-b07659e1e4d7"
      },
      "source": [
        "lr_schedule = tf.keras.callbacks.LearningRateScheduler(\n",
        "    lambda epoch: 1e-8 * 10**(epoch / 20))\n",
        "optimizer = tf.keras.optimizers.SGD(lr=1e-8, momentum=0.9)\n",
        "model.compile(loss=tf.keras.losses.Huber(),\n",
        "              optimizer=optimizer,\n",
        "              metrics=[\"mae\"])\n",
        "history = model.fit(data_x_train,epochs=100)"
      ],
      "execution_count": 81,
      "outputs": [
        {
          "output_type": "stream",
          "text": [
            "/usr/local/lib/python3.7/dist-packages/tensorflow/python/keras/optimizer_v2/optimizer_v2.py:375: UserWarning: The `lr` argument is deprecated, use `learning_rate` instead.\n",
            "  \"The `lr` argument is deprecated, use `learning_rate` instead.\")\n"
          ],
          "name": "stderr"
        },
        {
          "output_type": "stream",
          "text": [
            "Epoch 1/100\n",
            "12/12 [==============================] - 7s 280ms/step - loss: 19.4484 - mae: 19.9387\n",
            "Epoch 2/100\n",
            "12/12 [==============================] - 4s 280ms/step - loss: 18.5167 - mae: 19.0045\n",
            "Epoch 3/100\n",
            "12/12 [==============================] - 4s 278ms/step - loss: 17.5421 - mae: 18.0297\n",
            "Epoch 4/100\n",
            "12/12 [==============================] - 4s 280ms/step - loss: 16.8399 - mae: 17.3264\n",
            "Epoch 5/100\n",
            "12/12 [==============================] - 3s 277ms/step - loss: 16.3980 - mae: 16.8868\n",
            "Epoch 6/100\n",
            "12/12 [==============================] - 4s 280ms/step - loss: 16.1011 - mae: 16.5926\n",
            "Epoch 7/100\n",
            "12/12 [==============================] - 4s 279ms/step - loss: 15.8776 - mae: 16.3699\n",
            "Epoch 8/100\n",
            "12/12 [==============================] - 4s 277ms/step - loss: 15.7116 - mae: 16.2043\n",
            "Epoch 9/100\n",
            "12/12 [==============================] - 4s 280ms/step - loss: 15.5666 - mae: 16.0596\n",
            "Epoch 10/100\n",
            "12/12 [==============================] - 3s 277ms/step - loss: 15.4376 - mae: 15.9306\n",
            "Epoch 11/100\n",
            "12/12 [==============================] - 3s 277ms/step - loss: 15.3162 - mae: 15.8091\n",
            "Epoch 12/100\n",
            "12/12 [==============================] - 4s 281ms/step - loss: 15.2107 - mae: 15.7036\n",
            "Epoch 13/100\n",
            "12/12 [==============================] - 4s 275ms/step - loss: 15.1075 - mae: 15.6005\n",
            "Epoch 14/100\n",
            "12/12 [==============================] - 4s 277ms/step - loss: 15.0044 - mae: 15.4976\n",
            "Epoch 15/100\n",
            "12/12 [==============================] - 4s 280ms/step - loss: 14.9029 - mae: 15.3963\n",
            "Epoch 16/100\n",
            "12/12 [==============================] - 4s 278ms/step - loss: 14.8042 - mae: 15.2977\n",
            "Epoch 17/100\n",
            "12/12 [==============================] - 4s 285ms/step - loss: 14.7012 - mae: 15.1946\n",
            "Epoch 18/100\n",
            "12/12 [==============================] - 3s 276ms/step - loss: 14.5941 - mae: 15.0873\n",
            "Epoch 19/100\n",
            "12/12 [==============================] - 4s 279ms/step - loss: 14.4881 - mae: 14.9812\n",
            "Epoch 20/100\n",
            "12/12 [==============================] - 4s 288ms/step - loss: 14.3775 - mae: 14.8705\n",
            "Epoch 21/100\n",
            "12/12 [==============================] - 4s 281ms/step - loss: 14.2670 - mae: 14.7599\n",
            "Epoch 22/100\n",
            "12/12 [==============================] - 4s 279ms/step - loss: 14.1517 - mae: 14.6446\n",
            "Epoch 23/100\n",
            "12/12 [==============================] - 4s 279ms/step - loss: 14.0324 - mae: 14.5253\n",
            "Epoch 24/100\n",
            "12/12 [==============================] - 4s 280ms/step - loss: 13.9127 - mae: 14.4056\n",
            "Epoch 25/100\n",
            "12/12 [==============================] - 4s 283ms/step - loss: 13.7905 - mae: 14.2834\n",
            "Epoch 26/100\n",
            "12/12 [==============================] - 4s 283ms/step - loss: 13.6609 - mae: 14.1537\n",
            "Epoch 27/100\n",
            "12/12 [==============================] - 4s 278ms/step - loss: 13.5235 - mae: 14.0163\n",
            "Epoch 28/100\n",
            "12/12 [==============================] - 4s 281ms/step - loss: 13.3778 - mae: 13.8705\n",
            "Epoch 29/100\n",
            "12/12 [==============================] - 4s 284ms/step - loss: 13.2258 - mae: 13.7185\n",
            "Epoch 30/100\n",
            "12/12 [==============================] - 4s 279ms/step - loss: 13.0671 - mae: 13.5597\n",
            "Epoch 31/100\n",
            "12/12 [==============================] - 4s 284ms/step - loss: 12.9061 - mae: 13.3988\n",
            "Epoch 32/100\n",
            "12/12 [==============================] - 4s 279ms/step - loss: 12.7452 - mae: 13.2380\n",
            "Epoch 33/100\n",
            "12/12 [==============================] - 4s 284ms/step - loss: 12.5818 - mae: 13.0745\n",
            "Epoch 34/100\n",
            "12/12 [==============================] - 4s 277ms/step - loss: 12.4209 - mae: 12.9135\n",
            "Epoch 35/100\n",
            "12/12 [==============================] - 4s 285ms/step - loss: 12.2642 - mae: 12.7567\n",
            "Epoch 36/100\n",
            "12/12 [==============================] - 4s 281ms/step - loss: 12.1132 - mae: 12.6058\n",
            "Epoch 37/100\n",
            "12/12 [==============================] - 4s 280ms/step - loss: 11.9708 - mae: 12.4635\n",
            "Epoch 38/100\n",
            "12/12 [==============================] - 4s 280ms/step - loss: 11.8399 - mae: 12.3327\n",
            "Epoch 39/100\n",
            "12/12 [==============================] - 4s 281ms/step - loss: 11.7247 - mae: 12.2173\n",
            "Epoch 40/100\n",
            "12/12 [==============================] - 4s 282ms/step - loss: 11.6188 - mae: 12.1112\n",
            "Epoch 41/100\n",
            "12/12 [==============================] - 4s 281ms/step - loss: 11.5171 - mae: 12.0095\n",
            "Epoch 42/100\n",
            "12/12 [==============================] - 4s 280ms/step - loss: 11.4249 - mae: 11.9174\n",
            "Epoch 43/100\n",
            "12/12 [==============================] - 4s 280ms/step - loss: 11.3379 - mae: 11.8304\n",
            "Epoch 44/100\n",
            "12/12 [==============================] - 4s 279ms/step - loss: 11.2570 - mae: 11.7494\n",
            "Epoch 45/100\n",
            "12/12 [==============================] - 4s 277ms/step - loss: 11.1779 - mae: 11.6703\n",
            "Epoch 46/100\n",
            "12/12 [==============================] - 4s 278ms/step - loss: 11.1025 - mae: 11.5949\n",
            "Epoch 47/100\n",
            "12/12 [==============================] - 4s 283ms/step - loss: 11.0288 - mae: 11.5211\n",
            "Epoch 48/100\n",
            "12/12 [==============================] - 4s 281ms/step - loss: 10.9562 - mae: 11.4485\n",
            "Epoch 49/100\n",
            "12/12 [==============================] - 4s 282ms/step - loss: 10.8863 - mae: 11.3786\n",
            "Epoch 50/100\n",
            "12/12 [==============================] - 4s 279ms/step - loss: 10.8152 - mae: 11.3075\n",
            "Epoch 51/100\n",
            "12/12 [==============================] - 4s 279ms/step - loss: 10.7467 - mae: 11.2391\n",
            "Epoch 52/100\n",
            "12/12 [==============================] - 3s 278ms/step - loss: 10.6781 - mae: 11.1704\n",
            "Epoch 53/100\n",
            "12/12 [==============================] - 4s 285ms/step - loss: 10.6110 - mae: 11.1034\n",
            "Epoch 54/100\n",
            "12/12 [==============================] - 4s 284ms/step - loss: 10.5454 - mae: 11.0378\n",
            "Epoch 55/100\n",
            "12/12 [==============================] - 4s 280ms/step - loss: 10.4791 - mae: 10.9715\n",
            "Epoch 56/100\n",
            "12/12 [==============================] - 4s 280ms/step - loss: 10.4118 - mae: 10.9041\n",
            "Epoch 57/100\n",
            "12/12 [==============================] - 4s 280ms/step - loss: 10.3443 - mae: 10.8366\n",
            "Epoch 58/100\n",
            "12/12 [==============================] - 4s 278ms/step - loss: 10.2771 - mae: 10.7694\n",
            "Epoch 59/100\n",
            "12/12 [==============================] - 4s 281ms/step - loss: 10.2104 - mae: 10.7027\n",
            "Epoch 60/100\n",
            "12/12 [==============================] - 4s 281ms/step - loss: 10.1441 - mae: 10.6364\n",
            "Epoch 61/100\n",
            "12/12 [==============================] - 4s 279ms/step - loss: 10.0753 - mae: 10.5675\n",
            "Epoch 62/100\n",
            "12/12 [==============================] - 3s 279ms/step - loss: 10.0076 - mae: 10.4997\n",
            "Epoch 63/100\n",
            "12/12 [==============================] - 4s 278ms/step - loss: 9.9396 - mae: 10.4316\n",
            "Epoch 64/100\n",
            "12/12 [==============================] - 4s 279ms/step - loss: 9.8704 - mae: 10.3624\n",
            "Epoch 65/100\n",
            "12/12 [==============================] - 4s 282ms/step - loss: 9.8019 - mae: 10.2939\n",
            "Epoch 66/100\n",
            "12/12 [==============================] - 3s 275ms/step - loss: 9.7333 - mae: 10.2252\n",
            "Epoch 67/100\n",
            "12/12 [==============================] - 4s 279ms/step - loss: 9.6630 - mae: 10.1548\n",
            "Epoch 68/100\n",
            "12/12 [==============================] - 4s 277ms/step - loss: 9.5888 - mae: 10.0805\n",
            "Epoch 69/100\n",
            "12/12 [==============================] - 4s 282ms/step - loss: 9.5148 - mae: 10.0065\n",
            "Epoch 70/100\n",
            "12/12 [==============================] - 4s 279ms/step - loss: 9.4400 - mae: 9.9316\n",
            "Epoch 71/100\n",
            "12/12 [==============================] - 4s 280ms/step - loss: 9.3641 - mae: 9.8556\n",
            "Epoch 72/100\n",
            "12/12 [==============================] - 3s 276ms/step - loss: 9.2863 - mae: 9.7777\n",
            "Epoch 73/100\n",
            "12/12 [==============================] - 3s 275ms/step - loss: 9.2070 - mae: 9.6983\n",
            "Epoch 74/100\n",
            "12/12 [==============================] - 4s 280ms/step - loss: 9.1234 - mae: 9.6146\n",
            "Epoch 75/100\n",
            "12/12 [==============================] - 4s 279ms/step - loss: 9.0412 - mae: 9.5322\n",
            "Epoch 76/100\n",
            "12/12 [==============================] - 4s 277ms/step - loss: 8.9539 - mae: 9.4446\n",
            "Epoch 77/100\n",
            "12/12 [==============================] - 4s 279ms/step - loss: 8.8680 - mae: 9.3584\n",
            "Epoch 78/100\n",
            "12/12 [==============================] - 3s 277ms/step - loss: 8.7830 - mae: 9.2732\n",
            "Epoch 79/100\n",
            "12/12 [==============================] - 4s 278ms/step - loss: 8.6960 - mae: 9.1862\n",
            "Epoch 80/100\n",
            "12/12 [==============================] - 4s 280ms/step - loss: 8.6086 - mae: 9.0986\n",
            "Epoch 81/100\n",
            "12/12 [==============================] - 4s 282ms/step - loss: 8.5200 - mae: 9.0100\n",
            "Epoch 82/100\n",
            "12/12 [==============================] - 4s 278ms/step - loss: 8.4309 - mae: 8.9207\n",
            "Epoch 83/100\n",
            "12/12 [==============================] - 4s 280ms/step - loss: 8.3444 - mae: 8.8341\n",
            "Epoch 84/100\n",
            "12/12 [==============================] - 4s 279ms/step - loss: 8.2566 - mae: 8.7462\n",
            "Epoch 85/100\n",
            "12/12 [==============================] - 4s 281ms/step - loss: 8.1688 - mae: 8.6583\n",
            "Epoch 86/100\n",
            "12/12 [==============================] - 4s 279ms/step - loss: 8.0818 - mae: 8.5711\n",
            "Epoch 87/100\n",
            "12/12 [==============================] - 4s 281ms/step - loss: 7.9942 - mae: 8.4834\n",
            "Epoch 88/100\n",
            "12/12 [==============================] - 4s 282ms/step - loss: 7.9081 - mae: 8.3972\n",
            "Epoch 89/100\n",
            "12/12 [==============================] - 4s 278ms/step - loss: 7.8226 - mae: 8.3115\n",
            "Epoch 90/100\n",
            "12/12 [==============================] - 4s 279ms/step - loss: 7.7387 - mae: 8.2276\n",
            "Epoch 91/100\n",
            "12/12 [==============================] - 4s 280ms/step - loss: 7.6587 - mae: 8.1473\n",
            "Epoch 92/100\n",
            "12/12 [==============================] - 4s 285ms/step - loss: 7.5779 - mae: 8.0662\n",
            "Epoch 93/100\n",
            "12/12 [==============================] - 4s 284ms/step - loss: 7.4976 - mae: 7.9856\n",
            "Epoch 94/100\n",
            "12/12 [==============================] - 4s 285ms/step - loss: 7.4208 - mae: 7.9086\n",
            "Epoch 95/100\n",
            "12/12 [==============================] - 4s 277ms/step - loss: 7.3450 - mae: 7.8325\n",
            "Epoch 96/100\n",
            "12/12 [==============================] - 4s 282ms/step - loss: 7.2705 - mae: 7.7575\n",
            "Epoch 97/100\n",
            "12/12 [==============================] - 4s 281ms/step - loss: 7.1960 - mae: 7.6825\n",
            "Epoch 98/100\n",
            "12/12 [==============================] - 4s 285ms/step - loss: 7.1259 - mae: 7.6121\n",
            "Epoch 99/100\n",
            "12/12 [==============================] - 3s 278ms/step - loss: 7.0558 - mae: 7.5419\n",
            "Epoch 100/100\n",
            "12/12 [==============================] - 4s 280ms/step - loss: 6.9854 - mae: 7.4715\n"
          ],
          "name": "stdout"
        }
      ]
    },
    {
      "cell_type": "code",
      "metadata": {
        "colab": {
          "base_uri": "https://localhost:8080/"
        },
        "id": "zOURT9GjbZM-",
        "outputId": "179737e6-664f-4205-9962-e9d19ade373a"
      },
      "source": [
        "max = data_train['meantemp'].max()\n",
        "print('Max value : ' )\n",
        "print(max)\n",
        "\n",
        "min = data_train['meantemp'].min()\n",
        "print('Min Value : ')\n",
        "print(min)\n",
        "\n",
        "x = (90.0 - 1.0) * (10 / 100)\n",
        "print(x)"
      ],
      "execution_count": 83,
      "outputs": [
        {
          "output_type": "stream",
          "text": [
            "Max value : \n",
            "38.714285714285715\n",
            "Min Value : \n",
            "6.0\n",
            "8.9\n"
          ],
          "name": "stdout"
        }
      ]
    },
    {
      "cell_type": "code",
      "metadata": {
        "colab": {
          "base_uri": "https://localhost:8080/"
        },
        "id": "bx86dtpTtPgj",
        "outputId": "b7b74469-0f29-4278-c95c-b03a88f9b272"
      },
      "source": [
        "class myCallback(tf.keras.callbacks.Callback):\n",
        "  def on_epoch_end(self, epoch, logs={}):\n",
        "    if(logs.get('mae')< x):\n",
        "      self.model.stop_training = True\n",
        "      print(\"\\nNilai MAE < 10% dari skala data \")\n",
        "callbacks = myCallback()\n",
        "\n",
        "tf.keras.backend.set_floatx('float64')\n",
        "history = model.fit(data_x_train ,epochs=500, validation_data=data_x_test, callbacks=[callbacks])\n"
      ],
      "execution_count": 86,
      "outputs": [
        {
          "output_type": "stream",
          "text": [
            "Epoch 1/500\n",
            "12/12 [==============================] - 4s 337ms/step - loss: 6.8385 - mae: 7.3247 - val_loss: 5.7522 - val_mae: 6.2380\n",
            "\n",
            "Nilai MAE < 10% dari skala data \n"
          ],
          "name": "stdout"
        }
      ]
    }
  ]
}